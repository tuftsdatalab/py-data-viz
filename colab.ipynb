{
 "cells": [
  {
   "cell_type": "markdown",
   "id": "6a08eb7a-7767-4b92-9df2-970bd3e7b714",
   "metadata": {},
   "source": [
    "---\n",
    "\n",
    "## Google Colab Setup\n",
    "\n",
    "The cell below appears only in the Google Colab version of this tutorial and is needed for some initial setup. Google Colab requires all data files to either be downloaded from the web within the notebook or manually uploaded. Google Colab also only has a limited number of packages preinstalled and one of the packages this tutorial uses in not present. Built-in [*magic*](https://ipython.readthedocs.io/en/stable/interactive/magics.html) commands can be used to download the data and install any missing packages from within the notebook. First, `%%capture` is specified to suppress any output the cell might use. Then `%pip%` is used to install the missing package and `!` is command with Unix commands to download and extract the data. Note that using `pip` to install packages into a local Python installation is not recommended and `conda` or `mamba` should be used instead.\n",
    "\n"
   ]
  },
  {
   "cell_type": "code",
   "execution_count": null,
   "id": "8c94ea97-48e2-4a5c-b48c-6a3d09235bab",
   "metadata": {},
   "outputs": [],
   "source": [
    "%%capture\n",
    "%pip install hvplot\n",
    "!wget -qO- https://github.com/tuftsdatalab/python-data-viz/archive/data.tar.gz | tar --xform \"s/python-data-viz-//\" -xz"
   ]
  }
 ],
 "metadata": {
  "language_info": {
   "name": "python"
  }
 },
 "nbformat": 4,
 "nbformat_minor": 2
}
